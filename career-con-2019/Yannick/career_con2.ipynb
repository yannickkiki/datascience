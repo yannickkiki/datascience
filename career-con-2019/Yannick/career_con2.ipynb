{
  "nbformat": 4,
  "nbformat_minor": 0,
  "metadata": {
    "colab": {
      "name": "career_con2.ipynb",
      "version": "0.3.2",
      "provenance": [],
      "collapsed_sections": []
    },
    "kernelspec": {
      "name": "python3",
      "display_name": "Python 3"
    }
  },
  "cells": [
    {
      "cell_type": "code",
      "metadata": {
        "id": "oV32PfXU9fuc",
        "colab_type": "code",
        "colab": {}
      },
      "source": [
        "import numpy as np\n",
        "from pandas import read_csv, DataFrame\n",
        "import matplotlib.pyplot as plt\n",
        "import seaborn as sns\n",
        "from scipy.stats import kurtosis, skew\n",
        "\n",
        "def num_tan_roll(row):\n",
        "    return 2*(row.oW+row.oX+row.oY+row.oZ)\n",
        "\n",
        "def den_tan_roll(row):\n",
        "    return 1-2*(row.oX**2+row.oY**2)\n",
        "\n",
        "def tan_roll(row):\n",
        "    return num_tan_roll(row)/den_tan_roll(row)\n",
        "\n",
        "def roll(row):\n",
        "    return np.arctan2(num_tan_roll(row),den_tan_roll(row))\n",
        "\n",
        "def sin_pitch(row):\n",
        "    return 2*(row.oW*row.oY-row.oZ*row.oX)\n",
        "\n",
        "def pitch(row):\n",
        "    return np.arcsin(sin_pitch(row))\n",
        "\n",
        "def num_tan_yaw(row):\n",
        "    return 2*(row.oW*row.oZ+row.oX*row.oY)\n",
        "\n",
        "def den_tan_yaw(row):\n",
        "    return 1-2*(row.oY**2+row.oZ**2)\n",
        "\n",
        "def tan_yaw(row):\n",
        "    return num_tan_yaw(row)/den_tan_yaw(row)\n",
        "\n",
        "def yaw(row):\n",
        "    return np.arctan2(num_tan_yaw(row),den_tan_yaw(row))\n",
        "\n",
        "def norm(x,y,z,w = 0):\n",
        "    return (x**2+y**2+z**2+w**2)**0.5\n",
        "\n",
        "def feature_X(data_X):\n",
        "    data_X.rename(columns={'orientation_X':'oX','orientation_Y':'oY',\n",
        "                         'orientation_Z':'oZ', 'orientation_W':'oW',\n",
        "                         'angular_velocity_X':'avX', 'angular_velocity_Y':'avY',\n",
        "                         'angular_velocity_Z':'avZ', 'linear_acceleration_X':'laX',\n",
        "                         'linear_acceleration_Y':'laY',\n",
        "                         'linear_acceleration_Z':'laZ'},inplace=True)\n",
        "    data_X[\"roll\"] = data_X.apply(lambda row: roll(row), axis = 1)\n",
        "    data_X[\"pitch\"] = data_X.apply(lambda row: pitch(row), axis = 1)\n",
        "    data_X[\"yaw\"] = data_X.apply(lambda row: yaw(row), axis = 1)\n",
        "    \n",
        "    data_X['norm_o'] = data_X.apply(lambda row: norm(row.oX,row.oY,row.oZ,row.oW), axis = 1)\n",
        "    data_X['norm_X'] = data_X['oX']/data_X['norm_o']\n",
        "    data_X['norm_Y'] = data_X['oY']/data_X['norm_o']\n",
        "    data_X['norm_Z'] = data_X['oZ']/data_X['norm_o']\n",
        "    data_X['norm_W'] = data_X['oW']/data_X['norm_o']\n",
        "    \n",
        "    data_X['norm_av'] = data_X.apply(lambda row: norm(row.avX,row.avY,row.avZ), axis = 1)\n",
        "    \n",
        "    data_X['norm_la'] = data_X.apply(lambda row: norm(row.laX,row.laY,row.laZ), axis = 1)\n",
        "    \n",
        "    data_X['av_vs_la'] = data_X['norm_av']/data_X['norm_la']\n",
        "    \n",
        "    features = data_X.columns.drop([\"row_id\", 'measurement_number'])\n",
        "    \n",
        "    return data_X[features]\n",
        "\n",
        "def _kurtosis(x):\n",
        "    return kurtosis(x)\n",
        "\n",
        "def CPT5(x):\n",
        "    den = len(x)*np.exp(np.std(x))\n",
        "    return sum(np.exp(x))/den\n",
        "\n",
        "def skewness(x):\n",
        "    return skew(x)\n",
        "\n",
        "def SSC(x):\n",
        "    x = np.array(x)\n",
        "    x = np.append(x[-1], x)\n",
        "    x = np.append(x,x[1])\n",
        "    xn = x[1:len(x)-1]\n",
        "    xn_i2 = x[2:len(x)]    # xn+1 \n",
        "    xn_i1 = x[0:len(x)-2]  # xn-1\n",
        "    ans = np.heaviside((xn-xn_i1)*(xn-xn_i2),0)\n",
        "    return sum(ans[1:]) \n",
        "\n",
        "def wave_length(x):\n",
        "    x = np.array(x)\n",
        "    x = np.append(x[-1], x)\n",
        "    x = np.append(x,x[1])\n",
        "    xn = x[1:len(x)-1]\n",
        "    xn_i2 = x[2:len(x)]    # xn+1 \n",
        "    return sum(abs(xn_i2-xn))\n",
        "    \n",
        "def norm_entropy(x):\n",
        "    tresh = 3\n",
        "    return sum(np.power(abs(x),tresh))\n",
        "\n",
        "def SRAV(x):    \n",
        "    SRA = sum(np.sqrt(abs(x)))\n",
        "    return np.power(SRA/len(x),2)\n",
        "\n",
        "def mean_abs(x):\n",
        "    return sum(abs(x))/len(x)\n",
        "\n",
        "def zero_crossing(x):\n",
        "    x = np.array(x)\n",
        "    x = np.append(x[-1], x)\n",
        "    x = np.append(x,x[1])\n",
        "    xn = x[1:len(x)-1]\n",
        "    xn_i2 = x[2:len(x)]    # xn+1\n",
        "    return sum(np.heaviside(-xn*xn_i2,0))\n",
        "\n",
        "def flat_df(df):\n",
        "    flat_df = DataFrame()\n",
        "    for col in df.columns:\n",
        "        if col == \"series_id\": continue\n",
        "        flat_df[col + '_mean'] = df.groupby(['series_id'])[col].mean()\n",
        "        flat_df[col + '_median'] = df.groupby(['series_id'])[col].median()\n",
        "        flat_df[col + '_max'] = df.groupby(['series_id'])[col].max()\n",
        "        flat_df[col + '_min'] = df.groupby(['series_id'])[col].min()\n",
        "        flat_df[col + '_std'] = df.groupby(['series_id'])[col].std()\n",
        "        flat_df[col + '_range'] = flat_df[col + '_max'] - flat_df[col + '_min']\n",
        "        flat_df[col + '_maxtoMin'] = flat_df[col + '_max'] / flat_df[col + '_min']\n",
        "        flat_df[col + '_mean_abs_chg'] = df.groupby(['series_id'])[col].apply(lambda x: np.mean(np.abs(np.diff(x))))\n",
        "        flat_df[col + '_mean_change_of_abs_change'] = df.groupby('series_id')[col].apply(lambda x: np.mean(np.diff(np.abs(np.diff(x)))))\n",
        "        flat_df[col + '_abs_max'] = df.groupby(['series_id'])[col].apply(lambda x: np.max(np.abs(x)))\n",
        "        flat_df[col + '_abs_min'] = df.groupby(['series_id'])[col].apply(lambda x: np.min(np.abs(x)))\n",
        "        flat_df[col + '_abs_avg'] = (flat_df[col + '_abs_min'] + flat_df[col + '_abs_max'])/2\n",
        "        flat_df[col + '_skew'] = df.groupby(['series_id'])[col].skew()\n",
        "        flat_df[col + '_mad'] = df.groupby(['series_id'])[col].mad()\n",
        "        flat_df[col + '_q25'] = df.groupby(['series_id'])[col].quantile(0.25)\n",
        "        flat_df[col + '_q75'] = df.groupby(['series_id'])[col].quantile(0.75)\n",
        "        flat_df[col + '_q95'] = df.groupby(['series_id'])[col].quantile(0.95)\n",
        "        flat_df[col + '_iqr'] = flat_df[col + '_q75'] - flat_df[col + '_q25']\n",
        "        flat_df[col + '_CPT5'] = df.groupby(['series_id'])[col].apply(CPT5) \n",
        "        flat_df[col + '_SSC'] = df.groupby(['series_id'])[col].apply(SSC) \n",
        "        flat_df[col + '_skewness'] = df.groupby(['series_id'])[col].apply(skewness)\n",
        "        flat_df[col + '_wave_lenght'] = df.groupby(['series_id'])[col].apply(wave_length)\n",
        "        flat_df[col + '_norm_entropy'] = df.groupby(['series_id'])[col].apply(norm_entropy)\n",
        "        flat_df[col + '_SRAV'] = df.groupby(['series_id'])[col].apply(SRAV)\n",
        "        flat_df[col + '_kurtosis'] = df.groupby(['series_id'])[col].apply(_kurtosis) \n",
        "        flat_df[col + '_zero_crossing'] = df.groupby(['series_id'])[col].apply(zero_crossing)\n",
        "    return flat_df\n",
        "\n",
        "def process_X(data_X):\n",
        "    data_X = feature_X(data_X)\n",
        "    print(\"Featured\")\n",
        "    flat_dX = flat_df(data_X)\n",
        "    flat_dX = flat_dX.astype(np.float32)\n",
        "    flat_dX.fillna(0,inplace=True)\n",
        "    npmin, npmax = np.finfo(np.float32).min, np.finfo(np.float32).max\n",
        "    flat_dX.replace(-np.inf,npmin+1,inplace=True)\n",
        "    flat_dX.replace(np.inf,npmax-1,inplace=True)\n",
        "    return flat_dX\n",
        "\n",
        "def read_data():\n",
        "    data_X = read_csv(\"https://raw.githubusercontent.com/yannickkiki/datasets/master/career-con-2019/X_train.csv\")\n",
        "    validation_X = read_csv(\"https://raw.githubusercontent.com/yannickkiki/datasets/master/career-con-2019/X_test.csv\")\n",
        "    data_y = read_csv(\"https://raw.githubusercontent.com/yannickkiki/datasets/master/career-con-2019/y_train.csv\")\n",
        "    return (data_X, validation_X, data_y)\n",
        "\n",
        "def plot_feature_class_distribution(classes,tt, features,a=5,b=2):\n",
        "    i = 0\n",
        "    sns.set_style('whitegrid')\n",
        "    plt.figure()\n",
        "    fig, ax = plt.subplots(a,b,figsize=(16,24))\n",
        "\n",
        "    for feature in features:\n",
        "        i += 1\n",
        "        plt.subplot(a,b,i)\n",
        "        for clas in classes:\n",
        "            ttc = tt[tt['surface']==clas]\n",
        "            sns.kdeplot(ttc[feature], bw=0.5,label=clas)\n",
        "        plt.xlabel(feature, fontsize=9)\n",
        "        locs, labels = plt.xticks()\n",
        "        plt.tick_params(axis='x', which='major', labelsize=8)\n",
        "        plt.tick_params(axis='y', which='major', labelsize=8)\n",
        "    plt.show()\n"
      ],
      "execution_count": 0,
      "outputs": []
    },
    {
      "cell_type": "code",
      "metadata": {
        "id": "g5-EsMwD-Z_I",
        "colab_type": "code",
        "colab": {}
      },
      "source": [
        "data_X, validation_X, data_y = read_data()"
      ],
      "execution_count": 0,
      "outputs": []
    },
    {
      "cell_type": "code",
      "metadata": {
        "id": "sGJcFItF-dxx",
        "colab_type": "code",
        "colab": {
          "base_uri": "https://localhost:8080/",
          "height": 34
        },
        "outputId": "dee4dd2f-3f4a-40d0-f739-5b4050f1565c"
      },
      "source": [
        "X = process_X(data_X)"
      ],
      "execution_count": 3,
      "outputs": [
        {
          "output_type": "stream",
          "text": [
            "Featured\n"
          ],
          "name": "stdout"
        }
      ]
    },
    {
      "cell_type": "code",
      "metadata": {
        "id": "Fum7_eNh-hIx",
        "colab_type": "code",
        "colab": {}
      },
      "source": [
        "y = data_y[['surface']]"
      ],
      "execution_count": 0,
      "outputs": []
    },
    {
      "cell_type": "markdown",
      "metadata": {
        "id": "TjB_NgVHhSJu",
        "colab_type": "text"
      },
      "source": [
        "## Just one split"
      ]
    },
    {
      "cell_type": "code",
      "metadata": {
        "id": "N7k8_tnc-jOk",
        "colab_type": "code",
        "colab": {}
      },
      "source": [
        "from sklearn.model_selection import train_test_split\n",
        "train_X, test_X, train_y, test_y= train_test_split(X, y, test_size = 0.1)"
      ],
      "execution_count": 0,
      "outputs": []
    },
    {
      "cell_type": "code",
      "metadata": {
        "id": "-nLxNZ1P-pH4",
        "colab_type": "code",
        "colab": {}
      },
      "source": [
        "from sklearn.ensemble import RandomForestClassifier\n",
        "model = RandomForestClassifier(n_estimators=500, n_jobs = -1)"
      ],
      "execution_count": 0,
      "outputs": []
    },
    {
      "cell_type": "code",
      "metadata": {
        "id": "7a6ITp6z-rVK",
        "colab_type": "code",
        "colab": {}
      },
      "source": [
        "model.fit(train_X,train_y)"
      ],
      "execution_count": 0,
      "outputs": []
    },
    {
      "cell_type": "code",
      "metadata": {
        "id": "e3JlXiOG-tjE",
        "colab_type": "code",
        "colab": {
          "base_uri": "https://localhost:8080/",
          "height": 34
        },
        "outputId": "6d40bbce-dfff-4aa2-cc5f-f8f5c0becaf1"
      },
      "source": [
        "model.score(train_X,train_y)"
      ],
      "execution_count": 17,
      "outputs": [
        {
          "output_type": "execute_result",
          "data": {
            "text/plain": [
              "1.0"
            ]
          },
          "metadata": {
            "tags": []
          },
          "execution_count": 17
        }
      ]
    },
    {
      "cell_type": "code",
      "metadata": {
        "id": "QakEeaK2-v3M",
        "colab_type": "code",
        "colab": {
          "base_uri": "https://localhost:8080/",
          "height": 34
        },
        "outputId": "be6ce244-ba2c-467b-f898-ab69b7fbad6e"
      },
      "source": [
        "model.score(test_X,test_y)"
      ],
      "execution_count": 18,
      "outputs": [
        {
          "output_type": "execute_result",
          "data": {
            "text/plain": [
              "0.9081364829396326"
            ]
          },
          "metadata": {
            "tags": []
          },
          "execution_count": 18
        }
      ]
    },
    {
      "cell_type": "markdown",
      "metadata": {
        "id": "l-EOsqCVhZaQ",
        "colab_type": "text"
      },
      "source": [
        "## Cross validation"
      ]
    },
    {
      "cell_type": "code",
      "metadata": {
        "id": "q7M8FIg4_BWd",
        "colab_type": "code",
        "colab": {
          "base_uri": "https://localhost:8080/",
          "height": 34
        },
        "outputId": "156ee58b-2962-44d0-a2f4-eb2032dfdf2e"
      },
      "source": [
        "val_X = process_X(validation_X)"
      ],
      "execution_count": 11,
      "outputs": [
        {
          "output_type": "stream",
          "text": [
            "Featured\n"
          ],
          "name": "stdout"
        }
      ]
    },
    {
      "cell_type": "code",
      "metadata": {
        "id": "3bwJWWBfjT4F",
        "colab_type": "code",
        "colab": {}
      },
      "source": [
        "number_of_surfaces = len(data_y['surface'].unique())"
      ],
      "execution_count": 0,
      "outputs": []
    },
    {
      "cell_type": "code",
      "metadata": {
        "id": "mA3EUV5BjEKt",
        "colab_type": "code",
        "colab": {}
      },
      "source": [
        "from sklearn.model_selection import StratifiedKFold\n",
        "skf = StratifiedKFold(n_splits = 10)\n",
        "predicted = np.zeros((val_X.shape[0],number_of_surfaces))\n",
        "score_on_test = 0"
      ],
      "execution_count": 0,
      "outputs": []
    },
    {
      "cell_type": "code",
      "metadata": {
        "id": "kiMsi5Yw2jor",
        "colab_type": "code",
        "colab": {}
      },
      "source": [
        "from xgboost import XGBClassifier"
      ],
      "execution_count": 0,
      "outputs": []
    },
    {
      "cell_type": "code",
      "metadata": {
        "id": "uZKHUgTNkODL",
        "colab_type": "code",
        "colab": {
          "base_uri": "https://localhost:8080/",
          "height": 904
        },
        "outputId": "79c7a048-05c5-49dc-b427-08b529dcc17f"
      },
      "source": [
        "features_importance = list()\n",
        "classes = list()\n",
        "for train_indexes, test_indexes in skf.split(X, y):\n",
        "  #model = RandomForestClassifier(n_estimators=500, n_jobs = -1)\n",
        "  model = XGBClassifier()\n",
        "  model.fit(X.iloc[train_indexes],y.iloc[train_indexes])\n",
        "  score = model.score(X.iloc[test_indexes],y.iloc[test_indexes])\n",
        "  print(score)\n",
        "  if (score > 0.9):\n",
        "    features_importance.append(model.feature_importances_)\n",
        "  score_on_test += score\n",
        "  predicted += model.predict_proba(val_X)/skf.n_splits\n",
        "  classes.append(model.classes_)\n",
        "print(f\"Score on test set: {score_on_test/skf.n_splits}\")\n"
      ],
      "execution_count": 69,
      "outputs": [
        {
          "output_type": "stream",
          "text": [
            "/usr/local/lib/python3.6/dist-packages/sklearn/preprocessing/label.py:219: DataConversionWarning: A column-vector y was passed when a 1d array was expected. Please change the shape of y to (n_samples, ), for example using ravel().\n",
            "  y = column_or_1d(y, warn=True)\n",
            "/usr/local/lib/python3.6/dist-packages/sklearn/preprocessing/label.py:252: DataConversionWarning: A column-vector y was passed when a 1d array was expected. Please change the shape of y to (n_samples, ), for example using ravel().\n",
            "  y = column_or_1d(y, warn=True)\n"
          ],
          "name": "stderr"
        },
        {
          "output_type": "stream",
          "text": [
            "0.8051948051948052\n"
          ],
          "name": "stdout"
        },
        {
          "output_type": "stream",
          "text": [
            "/usr/local/lib/python3.6/dist-packages/sklearn/preprocessing/label.py:219: DataConversionWarning: A column-vector y was passed when a 1d array was expected. Please change the shape of y to (n_samples, ), for example using ravel().\n",
            "  y = column_or_1d(y, warn=True)\n",
            "/usr/local/lib/python3.6/dist-packages/sklearn/preprocessing/label.py:252: DataConversionWarning: A column-vector y was passed when a 1d array was expected. Please change the shape of y to (n_samples, ), for example using ravel().\n",
            "  y = column_or_1d(y, warn=True)\n"
          ],
          "name": "stderr"
        },
        {
          "output_type": "stream",
          "text": [
            "0.8411458333333334\n"
          ],
          "name": "stdout"
        },
        {
          "output_type": "stream",
          "text": [
            "/usr/local/lib/python3.6/dist-packages/sklearn/preprocessing/label.py:219: DataConversionWarning: A column-vector y was passed when a 1d array was expected. Please change the shape of y to (n_samples, ), for example using ravel().\n",
            "  y = column_or_1d(y, warn=True)\n",
            "/usr/local/lib/python3.6/dist-packages/sklearn/preprocessing/label.py:252: DataConversionWarning: A column-vector y was passed when a 1d array was expected. Please change the shape of y to (n_samples, ), for example using ravel().\n",
            "  y = column_or_1d(y, warn=True)\n"
          ],
          "name": "stderr"
        },
        {
          "output_type": "stream",
          "text": [
            "0.762402088772846\n"
          ],
          "name": "stdout"
        },
        {
          "output_type": "stream",
          "text": [
            "/usr/local/lib/python3.6/dist-packages/sklearn/preprocessing/label.py:219: DataConversionWarning: A column-vector y was passed when a 1d array was expected. Please change the shape of y to (n_samples, ), for example using ravel().\n",
            "  y = column_or_1d(y, warn=True)\n",
            "/usr/local/lib/python3.6/dist-packages/sklearn/preprocessing/label.py:252: DataConversionWarning: A column-vector y was passed when a 1d array was expected. Please change the shape of y to (n_samples, ), for example using ravel().\n",
            "  y = column_or_1d(y, warn=True)\n"
          ],
          "name": "stderr"
        },
        {
          "output_type": "stream",
          "text": [
            "0.8769633507853403\n"
          ],
          "name": "stdout"
        },
        {
          "output_type": "stream",
          "text": [
            "/usr/local/lib/python3.6/dist-packages/sklearn/preprocessing/label.py:219: DataConversionWarning: A column-vector y was passed when a 1d array was expected. Please change the shape of y to (n_samples, ), for example using ravel().\n",
            "  y = column_or_1d(y, warn=True)\n",
            "/usr/local/lib/python3.6/dist-packages/sklearn/preprocessing/label.py:252: DataConversionWarning: A column-vector y was passed when a 1d array was expected. Please change the shape of y to (n_samples, ), for example using ravel().\n",
            "  y = column_or_1d(y, warn=True)\n"
          ],
          "name": "stderr"
        },
        {
          "output_type": "stream",
          "text": [
            "0.89501312335958\n"
          ],
          "name": "stdout"
        },
        {
          "output_type": "stream",
          "text": [
            "/usr/local/lib/python3.6/dist-packages/sklearn/preprocessing/label.py:219: DataConversionWarning: A column-vector y was passed when a 1d array was expected. Please change the shape of y to (n_samples, ), for example using ravel().\n",
            "  y = column_or_1d(y, warn=True)\n",
            "/usr/local/lib/python3.6/dist-packages/sklearn/preprocessing/label.py:252: DataConversionWarning: A column-vector y was passed when a 1d array was expected. Please change the shape of y to (n_samples, ), for example using ravel().\n",
            "  y = column_or_1d(y, warn=True)\n"
          ],
          "name": "stderr"
        },
        {
          "output_type": "stream",
          "text": [
            "0.8766404199475065\n"
          ],
          "name": "stdout"
        },
        {
          "output_type": "stream",
          "text": [
            "/usr/local/lib/python3.6/dist-packages/sklearn/preprocessing/label.py:219: DataConversionWarning: A column-vector y was passed when a 1d array was expected. Please change the shape of y to (n_samples, ), for example using ravel().\n",
            "  y = column_or_1d(y, warn=True)\n",
            "/usr/local/lib/python3.6/dist-packages/sklearn/preprocessing/label.py:252: DataConversionWarning: A column-vector y was passed when a 1d array was expected. Please change the shape of y to (n_samples, ), for example using ravel().\n",
            "  y = column_or_1d(y, warn=True)\n"
          ],
          "name": "stderr"
        },
        {
          "output_type": "stream",
          "text": [
            "0.8398950131233596\n"
          ],
          "name": "stdout"
        },
        {
          "output_type": "stream",
          "text": [
            "/usr/local/lib/python3.6/dist-packages/sklearn/preprocessing/label.py:219: DataConversionWarning: A column-vector y was passed when a 1d array was expected. Please change the shape of y to (n_samples, ), for example using ravel().\n",
            "  y = column_or_1d(y, warn=True)\n",
            "/usr/local/lib/python3.6/dist-packages/sklearn/preprocessing/label.py:252: DataConversionWarning: A column-vector y was passed when a 1d array was expected. Please change the shape of y to (n_samples, ), for example using ravel().\n",
            "  y = column_or_1d(y, warn=True)\n"
          ],
          "name": "stderr"
        },
        {
          "output_type": "stream",
          "text": [
            "0.8786279683377308\n"
          ],
          "name": "stdout"
        },
        {
          "output_type": "stream",
          "text": [
            "/usr/local/lib/python3.6/dist-packages/sklearn/preprocessing/label.py:219: DataConversionWarning: A column-vector y was passed when a 1d array was expected. Please change the shape of y to (n_samples, ), for example using ravel().\n",
            "  y = column_or_1d(y, warn=True)\n",
            "/usr/local/lib/python3.6/dist-packages/sklearn/preprocessing/label.py:252: DataConversionWarning: A column-vector y was passed when a 1d array was expected. Please change the shape of y to (n_samples, ), for example using ravel().\n",
            "  y = column_or_1d(y, warn=True)\n"
          ],
          "name": "stderr"
        },
        {
          "output_type": "stream",
          "text": [
            "0.8783068783068783\n"
          ],
          "name": "stdout"
        },
        {
          "output_type": "stream",
          "text": [
            "/usr/local/lib/python3.6/dist-packages/sklearn/preprocessing/label.py:219: DataConversionWarning: A column-vector y was passed when a 1d array was expected. Please change the shape of y to (n_samples, ), for example using ravel().\n",
            "  y = column_or_1d(y, warn=True)\n",
            "/usr/local/lib/python3.6/dist-packages/sklearn/preprocessing/label.py:252: DataConversionWarning: A column-vector y was passed when a 1d array was expected. Please change the shape of y to (n_samples, ), for example using ravel().\n",
            "  y = column_or_1d(y, warn=True)\n"
          ],
          "name": "stderr"
        },
        {
          "output_type": "stream",
          "text": [
            "0.8882978723404256\n",
            "Score on test set: 1.7524973603184293\n"
          ],
          "name": "stdout"
        }
      ]
    },
    {
      "cell_type": "code",
      "metadata": {
        "id": "hvdVauVJ9qVZ",
        "colab_type": "code",
        "colab": {}
      },
      "source": [
        "predicted_y = [classes[0][cl_idx] for cl_idx in predicted.argmax(axis=1)]"
      ],
      "execution_count": 0,
      "outputs": []
    },
    {
      "cell_type": "code",
      "metadata": {
        "id": "8uJq6CoG_G_2",
        "colab_type": "code",
        "colab": {}
      },
      "source": [
        "from pandas import DataFrame\n",
        "result = DataFrame({\"series_id\" : list(range(len(predicted_y))), \"surface\" : predicted_y})\n",
        "result.set_index(\"series_id\",inplace=True)\n",
        "result.to_csv(\"resultxgb.csv\")"
      ],
      "execution_count": 0,
      "outputs": []
    },
    {
      "cell_type": "code",
      "metadata": {
        "id": "anW466IG8dZh",
        "colab_type": "code",
        "colab": {}
      },
      "source": [
        "locals = {\"X\": X, \"y\": y, \"val_X\": val_X}"
      ],
      "execution_count": 0,
      "outputs": []
    },
    {
      "cell_type": "code",
      "metadata": {
        "id": "stpQ_T4s9CAW",
        "colab_type": "code",
        "colab": {}
      },
      "source": [
        "from pandas import to_pickle\n",
        "to_pickle(locals,\"vars\")"
      ],
      "execution_count": 0,
      "outputs": []
    }
  ]
}